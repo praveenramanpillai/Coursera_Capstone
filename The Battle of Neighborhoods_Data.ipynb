{
    "nbformat_minor": 1, 
    "cells": [
        {
            "source": "# Data\n", 
            "cell_type": "markdown", 
            "metadata": {
                "collapsed": true
            }
        }, 
        {
            "source": "To find the best location for our Indian Restaurnant, we will use the following sources of information:\n\nNewyork has a total of 5 boroughs and 306 neighborhoods. In order to segement the neighborhoods and explore them, we will essentially need a dataset that contains the 5 boroughs and the neighborhoods that exist in each borough as well as the the latitude and logitude coordinates of each neighborhood. Luckily, this dataset exists for free on the web. Feel free to try to find this dataset on your own, but here is the link to the dataset: https://geo.nyu.edu/catalog/nyu_2451_34572", 
            "cell_type": "markdown", 
            "metadata": {}
        }, 
        {
            "source": "### From Foursquare Venues Categories - https://developer.foursquare.com/docs/resources/categories\n#### Indian category Id - 4bf58dd8d48988d10f941735", 
            "cell_type": "markdown", 
            "metadata": {}
        }
    ], 
    "metadata": {
        "kernelspec": {
            "display_name": "Python 3.6", 
            "name": "python3", 
            "language": "python"
        }, 
        "language_info": {
            "mimetype": "text/x-python", 
            "nbconvert_exporter": "python", 
            "version": "3.6.8", 
            "name": "python", 
            "pygments_lexer": "ipython3", 
            "file_extension": ".py", 
            "codemirror_mode": {
                "version": 3, 
                "name": "ipython"
            }
        }
    }, 
    "nbformat": 4
}