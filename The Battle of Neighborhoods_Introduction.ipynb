{
    "nbformat_minor": 1, 
    "cells": [
        {
            "source": "# Capstone - Project (Week 4) - Introduction and Business problem\n", 
            "cell_type": "markdown", 
            "metadata": {
                "collapsed": true
            }
        }, 
        {
            "source": "## Introduction\nThe City of New York, is the most populous city in the United States. It is diverse and is the financial capital of USA. \nNew York City is often referred to collectively as the five boroughs, and in turn, there are hundreds of distinct neighborhoods throughout the boroughs, many with a definable history and character to call their own. If the boroughs were each independent cities, four of the boroughs (Brooklyn, Queens, Manhattan, and the Bronx) would be among the ten most populous cities in the United States.\n\nIt provides lot of business opportunities and business friendly environment. It has attracted many different players into the market.  The city is a major center for banking and finance, retailing, world trade, transportation, tourism, real estate, new media, traditional media, advertising, legal services, accountancy, insurance, theater, fashion, and the arts in the United States. This also means that the market is highly competitive. As it is highly developed city so cost of doing business is also one of the highest. Thus, any new business venture or expansion needs to be analyzed carefully. The insights derived from analysis will give good understanding of the business environment which help in strategically targeting the market. \n\n## Business problem\nThe City of New York is famous for numerous excellent cuisines across many nations with an array of international cuisines\nIndian restaurants have become so popular in the United States due to huge population of Asian immigrants. So, starting an Indian cuisine restaurant can be a great business opportunity and we need to determine the right location to cover wider customers\n\n## Target Audience:\n\nSince most of the companies are up in Manhattan area, the client wanted us to focus on that borough for analysis. The objective is to locate and recommend to the client on which neighborhood of Newyork city will be best choice to start a restaurant. The Management also expects to understand the rationale of the recommendations made. This would interest anyone who wants to start a new restaurant in Newyork city.", 
            "cell_type": "markdown", 
            "metadata": {}
        }, 
        {
            "execution_count": null, 
            "cell_type": "code", 
            "metadata": {}, 
            "outputs": [], 
            "source": ""
        }
    ], 
    "metadata": {
        "kernelspec": {
            "display_name": "Python 3.6", 
            "name": "python3", 
            "language": "python"
        }, 
        "language_info": {
            "mimetype": "text/x-python", 
            "nbconvert_exporter": "python", 
            "version": "3.6.8", 
            "name": "python", 
            "file_extension": ".py", 
            "pygments_lexer": "ipython3", 
            "codemirror_mode": {
                "version": 3, 
                "name": "ipython"
            }
        }
    }, 
    "nbformat": 4
}